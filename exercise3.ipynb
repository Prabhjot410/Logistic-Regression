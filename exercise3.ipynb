{
  "nbformat": 4,
  "nbformat_minor": 0,
  "metadata": {
    "colab": {
      "provenance": [],
      "authorship_tag": "ABX9TyOxqEDDhPd4OHmOay9w2Ora",
      "include_colab_link": true
    },
    "kernelspec": {
      "name": "python3",
      "display_name": "Python 3"
    },
    "language_info": {
      "name": "python"
    }
  },
  "cells": [
    {
      "cell_type": "markdown",
      "metadata": {
        "id": "view-in-github",
        "colab_type": "text"
      },
      "source": [
        "<a href=\"https://colab.research.google.com/github/Prabhjot410/Logistic-Regression/blob/main/exercise3.ipynb\" target=\"_parent\"><img src=\"https://colab.research.google.com/assets/colab-badge.svg\" alt=\"Open In Colab\"/></a>"
      ]
    },
    {
      "cell_type": "code",
      "execution_count": 1,
      "metadata": {
        "id": "XngcmEdkXGUZ"
      },
      "outputs": [],
      "source": [
        "import numpy as np\n",
        "import copy, math"
      ]
    },
    {
      "cell_type": "markdown",
      "source": [
        "<h5>Ques 1 : Write a function to generate an m+1 dimensional data set, of size n, consisting of m continuous independent\n",
        "variables (X) and one dependent binary variable (Y) </h5>"
      ],
      "metadata": {
        "id": "hApmUdI1XPF8"
      }
    },
    {
      "cell_type": "code",
      "source": [
        "#genarating X \n",
        "n = 5   # no of rows\n",
        "m = 4   #no of columns\n",
        "First_col = np.ones((n,1))  #first column\n",
        "rest_col = np.random.rand(n,m)\n",
        "rest_col = np.random.rand(n,m)\n",
        "X = np.append(First_col, rest_col, axis=1)\n",
        "X"
      ],
      "metadata": {
        "colab": {
          "base_uri": "https://localhost:8080/"
        },
        "id": "gQJaDfntXTrb",
        "outputId": "35a2dfbb-a7cf-4cd3-ea36-e38529e49fa5"
      },
      "execution_count": 2,
      "outputs": [
        {
          "output_type": "execute_result",
          "data": {
            "text/plain": [
              "array([[1.        , 0.00235096, 0.45022017, 0.57143443, 0.35994137],\n",
              "       [1.        , 0.73417676, 0.94149807, 0.65958905, 0.1540057 ],\n",
              "       [1.        , 0.01413504, 0.85422323, 0.22300554, 0.30405927],\n",
              "       [1.        , 0.9258145 , 0.55357091, 0.11946185, 0.7584408 ],\n",
              "       [1.        , 0.82430394, 0.71914409, 0.24010788, 0.98456695]])"
            ]
          },
          "metadata": {},
          "execution_count": 2
        }
      ]
    },
    {
      "cell_type": "code",
      "source": [
        "#Genrating Beta of m+1 dimensions\n",
        "beta1 = np.random.rand(m+1)\n",
        "#transpose beta\n",
        "beta = beta1.reshape(m+1,1)\n",
        "beta"
      ],
      "metadata": {
        "colab": {
          "base_uri": "https://localhost:8080/"
        },
        "id": "bALrlFwbXWDW",
        "outputId": "30bfa506-2dcd-4dfd-a906-ef95bfb40922"
      },
      "execution_count": 3,
      "outputs": [
        {
          "output_type": "execute_result",
          "data": {
            "text/plain": [
              "array([[0.66358677],\n",
              "       [0.63096207],\n",
              "       [0.20129443],\n",
              "       [0.75995167],\n",
              "       [0.06011662]])"
            ]
          },
          "metadata": {},
          "execution_count": 3
        }
      ]
    },
    {
      "cell_type": "code",
      "source": [
        "#generating z = x*Beta\n",
        "Z = -np.matmul(X,beta)\n",
        "Z"
      ],
      "metadata": {
        "colab": {
          "base_uri": "https://localhost:8080/"
        },
        "id": "u5x29XlzXZXC",
        "outputId": "1c756501-5856-49a0-9218-448dec99fa09"
      },
      "execution_count": 13,
      "outputs": [
        {
          "output_type": "execute_result",
          "data": {
            "text/plain": [
              "array([[-1.21159796],\n",
              "       [-1.82685688],\n",
              "       [-1.03220827],\n",
              "       [-1.49555147],\n",
              "       [-1.57011021]])"
            ]
          },
          "metadata": {},
          "execution_count": 13
        }
      ]
    },
    {
      "cell_type": "code",
      "source": [
        "#generating y = 1/1+e^-(x*beta)\n",
        "sigmoid = 1/(1+np.exp(-Z))\n",
        "Y = np.where(sigmoid>0.5,1,0)\n",
        "Y"
      ],
      "metadata": {
        "colab": {
          "base_uri": "https://localhost:8080/"
        },
        "id": "g9mpnN4IXbo0",
        "outputId": "c2fed88b-251a-4f87-de99-10dffb584c97"
      },
      "execution_count": 5,
      "outputs": [
        {
          "output_type": "execute_result",
          "data": {
            "text/plain": [
              "array([[0],\n",
              "       [0],\n",
              "       [0],\n",
              "       [0],\n",
              "       [0]])"
            ]
          },
          "metadata": {},
          "execution_count": 5
        }
      ]
    },
    {
      "cell_type": "code",
      "source": [
        "#Creating the noise\n",
        "# theta is prob of sucess\n",
        "#t is trails\n",
        "theta, t = .7, 1 \n",
        "s = np.random.binomial(t,theta,n)\n",
        "noise = s.reshape(n,1)\n",
        "noise"
      ],
      "metadata": {
        "colab": {
          "base_uri": "https://localhost:8080/"
        },
        "id": "8kXUn2m5XdfW",
        "outputId": "b7b663c3-8dc3-4ac1-9253-b33bbf343376"
      },
      "execution_count": 6,
      "outputs": [
        {
          "output_type": "execute_result",
          "data": {
            "text/plain": [
              "array([[1],\n",
              "       [1],\n",
              "       [1],\n",
              "       [1],\n",
              "       [1]])"
            ]
          },
          "metadata": {},
          "execution_count": 6
        }
      ]
    },
    {
      "cell_type": "code",
      "source": [
        "#flipping the value where the larger the value of θ, the greater is the noise.\n",
        "Y_flipping = np.where((Y==1)&(noise==1), 0 , noise)\n",
        "Y_flipping"
      ],
      "metadata": {
        "colab": {
          "base_uri": "https://localhost:8080/"
        },
        "id": "xf7MOfilXeTu",
        "outputId": "cb8ef47b-8c87-422d-ec6f-b1204ea6ec30"
      },
      "execution_count": 7,
      "outputs": [
        {
          "output_type": "execute_result",
          "data": {
            "text/plain": [
              "array([[1],\n",
              "       [1],\n",
              "       [1],\n",
              "       [1],\n",
              "       [1]])"
            ]
          },
          "metadata": {},
          "execution_count": 7
        }
      ]
    },
    {
      "cell_type": "markdown",
      "source": [
        "<h5>Ques 2:Write a function that learns the parameters of a logistic regression function<h5/> "
      ],
      "metadata": {
        "id": "Q_PQWZx0XvUF"
      }
    },
    {
      "cell_type": "code",
      "source": [
        "def compute_cost_logistic(X, y, w, b):\n",
        "\n",
        "    m = X.shape[0]\n",
        "    cost = 0.0\n",
        "    for i in range(m):\n",
        "        z_i = np.dot(X[i],w) + b\n",
        "        f_wb_i = 1/(1+np.exp(-z_i))\n",
        "        cost +=  -y[i]*np.log(f_wb_i) - (1-y[i])*np.log(1-f_wb_i)\n",
        "             \n",
        "    cost = cost / m\n",
        "    return cost"
      ],
      "metadata": {
        "id": "xenPrDJqXgUh"
      },
      "execution_count": 8,
      "outputs": []
    },
    {
      "cell_type": "code",
      "source": [
        "compute_cost_logistic(X,Y_flipping,beta,b=0)"
      ],
      "metadata": {
        "colab": {
          "base_uri": "https://localhost:8080/"
        },
        "id": "xSahwBu5Xj0N",
        "outputId": "0ed0c665-1c9a-4767-e365-a3d3cc27bd3f"
      },
      "execution_count": 9,
      "outputs": [
        {
          "output_type": "execute_result",
          "data": {
            "text/plain": [
              "array([0.22114663])"
            ]
          },
          "metadata": {},
          "execution_count": 9
        }
      ]
    },
    {
      "cell_type": "code",
      "source": [
        "def sigmoid(Z):\n",
        "  sigmoid = 1/(1+np.exp(-Z))\n",
        "  return sigmoid"
      ],
      "metadata": {
        "id": "emGcbgtiYTL8"
      },
      "execution_count": 15,
      "outputs": []
    },
    {
      "cell_type": "code",
      "source": [
        "def compute_gradient_logistic(X, y, w, b): \n",
        "   \n",
        "    m,n = X.shape\n",
        "    dj_dw = np.zeros((n,))                           \n",
        "    dj_db = 0.\n",
        "\n",
        "    for i in range(m):\n",
        "        f_wb_i = sigmoid(np.dot(X[i],w) + b)          \n",
        "        err_i  = f_wb_i  - y[i]                       \n",
        "        for j in range(n):\n",
        "            dj_dw[j] = dj_dw[j] + err_i * X[i,j]      \n",
        "        dj_db = dj_db + err_i\n",
        "    dj_dw = dj_dw/m                                   \n",
        "    dj_db = dj_db/m                                   \n",
        "        \n",
        "    return dj_db, dj_dw  "
      ],
      "metadata": {
        "id": "AawrpATlXkvU"
      },
      "execution_count": 16,
      "outputs": []
    },
    {
      "cell_type": "code",
      "source": [
        "def gradient_descent(X, y, w_in, b_in, alpha, num_iters): \n",
        "   \n",
        "    # An array to store cost J and w's at each iteration primarily for graphing later\n",
        "    J_history = []\n",
        "    w = copy.deepcopy(w_in)  #avoid modifying global w within function\n",
        "    b = b_in\n",
        "    \n",
        "    for i in range(num_iters):\n",
        "        # Calculate the gradient and update the parameters\n",
        "        dj_db, dj_dw = compute_gradient_logistic(X, y, w, b)   \n",
        "\n",
        "        # Update Parameters using w, b, alpha and gradient\n",
        "        w = w - alpha * dj_dw               \n",
        "        b = b - alpha * dj_db               \n",
        "      \n",
        "        # Save cost J at each iteration\n",
        "        if i<100000:      # prevent resource exhaustion \n",
        "            J_history.append( compute_cost_logistic(X, y, w, b) )\n",
        "\n",
        "        # Print cost every at intervals 10 times or as many iterations if < 10\n",
        "        if i% math.ceil(num_iters / 10) == 0:\n",
        "            print(f\"Iteration {i:4d}: Cost {J_history[-1]}   \")\n",
        "        \n",
        "    return w, b, J_history      "
      ],
      "metadata": {
        "id": "TCDTo8QZXozN"
      },
      "execution_count": 11,
      "outputs": []
    },
    {
      "cell_type": "code",
      "source": [
        "w_tmp  = np.zeros_like(X[0])\n",
        "b_tmp  = 0.\n",
        "alph = 0.1\n",
        "iters = 10000\n",
        "\n",
        "w_out, b_out, _ = gradient_descent(X,Y_flipping, w_tmp, b_tmp, alph, iters) \n",
        "print(f\"\\nupdated parameters: w:{w_out}, b:{b_out}\")"
      ],
      "metadata": {
        "colab": {
          "base_uri": "https://localhost:8080/"
        },
        "id": "t7IB0oDEXprw",
        "outputId": "0c628284-c2d1-42ec-ec6c-f3b002b6996d"
      },
      "execution_count": 17,
      "outputs": [
        {
          "output_type": "stream",
          "name": "stdout",
          "text": [
            "Iteration    0: Cost [0.61777041]   \n",
            "Iteration 1000: Cost [0.00347143]   \n",
            "Iteration 2000: Cost [0.00174206]   \n",
            "Iteration 3000: Cost [0.00116439]   \n",
            "Iteration 4000: Cost [0.00087502]   \n",
            "Iteration 5000: Cost [0.00070112]   \n",
            "Iteration 6000: Cost [0.00058504]   \n",
            "Iteration 7000: Cost [0.00050203]   \n",
            "Iteration 8000: Cost [0.0004397]   \n",
            "Iteration 9000: Cost [0.00039118]   \n",
            "\n",
            "updated parameters: w:[2.69356191 0.98998409 1.82229533 1.02022375 1.23931786], b:[2.69356191]\n"
          ]
        }
      ]
    }
  ]
}